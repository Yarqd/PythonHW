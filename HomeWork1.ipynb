{
 "cells": [
  {
   "cell_type": "code",
   "execution_count": null,
   "id": "11c13a26-9309-46f6-9e08-94512657d3c9",
   "metadata": {},
   "outputs": [],
   "source": [
    "# Автор: Iaroslav Rodionov"
   ]
  },
  {
   "cell_type": "code",
   "execution_count": 27,
   "id": "7d6d5730-c477-49ed-81cc-4585b9e0d7a8",
   "metadata": {
    "scrolled": true
   },
   "outputs": [
    {
     "name": "stdin",
     "output_type": "stream",
     "text": [
      "Введите год 1\n"
     ]
    },
    {
     "name": "stdout",
     "output_type": "stream",
     "text": [
      "Обычныцй год\n"
     ]
    }
   ],
   "source": [
    "#Задание 1. Проверка високостности года\n",
    "year = int(input(\"Введите год\"))\n",
    "#Каждый сотый год не високостный\n",
    "if (year % 400 == 0) or (year % 4 == 0 and year % 100 != 0):\n",
    "    print(\"Високостный год\")\n",
    "else:\n",
    "    print(\"Обычныцй год\")"
   ]
  },
  {
   "cell_type": "code",
   "execution_count": 26,
   "id": "25c4ade1-2cfa-48ed-b08d-9ed1b7303ac0",
   "metadata": {},
   "outputs": [
    {
     "name": "stdin",
     "output_type": "stream",
     "text": [
      "Введите шестизначный номер билета 123124\n"
     ]
    },
    {
     "name": "stdout",
     "output_type": "stream",
     "text": [
      "Не счастливый!\n"
     ]
    }
   ],
   "source": [
    "#Задание 2. Счастливый билет\n",
    "ticket = int(input(\"Введите шестизначный номер билета\"))\n",
    "ticket_str = str(ticket)\n",
    "if len(ticket_str) != 6:\n",
    "    print(\"Номер не шестизначный!\")\n",
    "else:\n",
    "    first_three = int(ticket_str[0] + ticket_str[1] + ticket_str[2])\n",
    "    second_three = int(ticket_str[3] + ticket_str[4] + ticket_str[5])\n",
    "\n",
    "    if first_three == second_three:\n",
    "        print(\"Счастливый\")\n",
    "    else:\n",
    "        print(\"Не счастливый!\")"
   ]
  },
  {
   "cell_type": "code",
   "execution_count": null,
   "id": "9af48de8-135a-4117-afa0-42cf270a66b1",
   "metadata": {},
   "outputs": [],
   "source": []
  }
 ],
 "metadata": {
  "kernelspec": {
   "display_name": "Python 3 (ipykernel)",
   "language": "python",
   "name": "python3"
  },
  "language_info": {
   "codemirror_mode": {
    "name": "ipython",
    "version": 3
   },
   "file_extension": ".py",
   "mimetype": "text/x-python",
   "name": "python",
   "nbconvert_exporter": "python",
   "pygments_lexer": "ipython3",
   "version": "3.12.11"
  }
 },
 "nbformat": 4,
 "nbformat_minor": 5
}
